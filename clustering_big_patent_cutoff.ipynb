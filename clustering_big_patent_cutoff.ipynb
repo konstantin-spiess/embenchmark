{
  "cells": [
    {
      "cell_type": "markdown",
      "metadata": {
        "id": "PNfzfen3E_MV"
      },
      "source": [
        "# Clustering - Split Dataset by sentence length\n",
        "**Task**: Take a clustering dataset, split it into multiple datasets based on the length of the sentences and benchmark the performance of a clustering algorithm on each of the datasets."
      ]
    },
    {
      "cell_type": "code",
      "execution_count": 1,
      "metadata": {
        "colab": {
          "base_uri": "https://localhost:8080/"
        },
        "executionInfo": {
          "elapsed": 6689,
          "status": "ok",
          "timestamp": 1707169480889,
          "user": {
            "displayName": "",
            "userId": ""
          },
          "user_tz": -60
        },
        "id": "PfK6ySm4E_MW",
        "outputId": "5945c885-8d6a-4fea-db93-20b5beb41a66"
      },
      "outputs": [
        {
          "name": "stdout",
          "output_type": "stream",
          "text": [
            "Requirement already satisfied: python-dotenv in /usr/local/lib/python3.10/dist-packages (1.0.1)\n",
            "Requirement already satisfied: datasets in /usr/local/lib/python3.10/dist-packages (2.16.1)\n",
            "Requirement already satisfied: transformers in /usr/local/lib/python3.10/dist-packages (4.35.2)\n",
            "Requirement already satisfied: scikit-learn in /usr/local/lib/python3.10/dist-packages (1.2.2)\n",
            "Requirement already satisfied: filelock in /usr/local/lib/python3.10/dist-packages (from datasets) (3.13.1)\n",
            "Requirement already satisfied: numpy>=1.17 in /usr/local/lib/python3.10/dist-packages (from datasets) (1.23.5)\n",
            "Requirement already satisfied: pyarrow>=8.0.0 in /usr/local/lib/python3.10/dist-packages (from datasets) (10.0.1)\n",
            "Requirement already satisfied: pyarrow-hotfix in /usr/local/lib/python3.10/dist-packages (from datasets) (0.6)\n",
            "Requirement already satisfied: dill<0.3.8,>=0.3.0 in /usr/local/lib/python3.10/dist-packages (from datasets) (0.3.7)\n",
            "Requirement already satisfied: pandas in /usr/local/lib/python3.10/dist-packages (from datasets) (1.5.3)\n",
            "Requirement already satisfied: requests>=2.19.0 in /usr/local/lib/python3.10/dist-packages (from datasets) (2.31.0)\n",
            "Requirement already satisfied: tqdm>=4.62.1 in /usr/local/lib/python3.10/dist-packages (from datasets) (4.66.1)\n",
            "Requirement already satisfied: xxhash in /usr/local/lib/python3.10/dist-packages (from datasets) (3.4.1)\n",
            "Requirement already satisfied: multiprocess in /usr/local/lib/python3.10/dist-packages (from datasets) (0.70.15)\n",
            "Requirement already satisfied: fsspec[http]<=2023.10.0,>=2023.1.0 in /usr/local/lib/python3.10/dist-packages (from datasets) (2023.6.0)\n",
            "Requirement already satisfied: aiohttp in /usr/local/lib/python3.10/dist-packages (from datasets) (3.9.1)\n",
            "Requirement already satisfied: huggingface-hub>=0.19.4 in /usr/local/lib/python3.10/dist-packages (from datasets) (0.20.2)\n",
            "Requirement already satisfied: packaging in /usr/local/lib/python3.10/dist-packages (from datasets) (23.2)\n",
            "Requirement already satisfied: pyyaml>=5.1 in /usr/local/lib/python3.10/dist-packages (from datasets) (6.0.1)\n",
            "Requirement already satisfied: regex!=2019.12.17 in /usr/local/lib/python3.10/dist-packages (from transformers) (2023.6.3)\n",
            "Requirement already satisfied: tokenizers<0.19,>=0.14 in /usr/local/lib/python3.10/dist-packages (from transformers) (0.15.0)\n",
            "Requirement already satisfied: safetensors>=0.3.1 in /usr/local/lib/python3.10/dist-packages (from transformers) (0.4.1)\n",
            "Requirement already satisfied: scipy>=1.3.2 in /usr/local/lib/python3.10/dist-packages (from scikit-learn) (1.11.4)\n",
            "Requirement already satisfied: joblib>=1.1.1 in /usr/local/lib/python3.10/dist-packages (from scikit-learn) (1.3.2)\n",
            "Requirement already satisfied: threadpoolctl>=2.0.0 in /usr/local/lib/python3.10/dist-packages (from scikit-learn) (3.2.0)\n",
            "Requirement already satisfied: attrs>=17.3.0 in /usr/local/lib/python3.10/dist-packages (from aiohttp->datasets) (23.2.0)\n",
            "Requirement already satisfied: multidict<7.0,>=4.5 in /usr/local/lib/python3.10/dist-packages (from aiohttp->datasets) (6.0.4)\n",
            "Requirement already satisfied: yarl<2.0,>=1.0 in /usr/local/lib/python3.10/dist-packages (from aiohttp->datasets) (1.9.4)\n",
            "Requirement already satisfied: frozenlist>=1.1.1 in /usr/local/lib/python3.10/dist-packages (from aiohttp->datasets) (1.4.1)\n",
            "Requirement already satisfied: aiosignal>=1.1.2 in /usr/local/lib/python3.10/dist-packages (from aiohttp->datasets) (1.3.1)\n",
            "Requirement already satisfied: async-timeout<5.0,>=4.0 in /usr/local/lib/python3.10/dist-packages (from aiohttp->datasets) (4.0.3)\n",
            "Requirement already satisfied: typing-extensions>=3.7.4.3 in /usr/local/lib/python3.10/dist-packages (from huggingface-hub>=0.19.4->datasets) (4.5.0)\n",
            "Requirement already satisfied: charset-normalizer<4,>=2 in /usr/local/lib/python3.10/dist-packages (from requests>=2.19.0->datasets) (3.3.2)\n",
            "Requirement already satisfied: idna<4,>=2.5 in /usr/local/lib/python3.10/dist-packages (from requests>=2.19.0->datasets) (3.6)\n",
            "Requirement already satisfied: urllib3<3,>=1.21.1 in /usr/local/lib/python3.10/dist-packages (from requests>=2.19.0->datasets) (2.0.7)\n",
            "Requirement already satisfied: certifi>=2017.4.17 in /usr/local/lib/python3.10/dist-packages (from requests>=2.19.0->datasets) (2023.11.17)\n",
            "Requirement already satisfied: python-dateutil>=2.8.1 in /usr/local/lib/python3.10/dist-packages (from pandas->datasets) (2.8.2)\n",
            "Requirement already satisfied: pytz>=2020.1 in /usr/local/lib/python3.10/dist-packages (from pandas->datasets) (2023.3.post1)\n",
            "Requirement already satisfied: six>=1.5 in /usr/local/lib/python3.10/dist-packages (from python-dateutil>=2.8.1->pandas->datasets) (1.16.0)\n"
          ]
        }
      ],
      "source": [
        "%pip install python-dotenv datasets transformers scikit-learn"
      ]
    },
    {
      "cell_type": "code",
      "execution_count": 28,
      "metadata": {
        "executionInfo": {
          "elapsed": 3891,
          "status": "ok",
          "timestamp": 1707171813313,
          "user": {
            "displayName": "",
            "userId": ""
          },
          "user_tz": -60
        },
        "id": "4L_mFLVmE_MX"
      },
      "outputs": [],
      "source": [
        "from dotenv import load_dotenv\n",
        "if(load_dotenv(\".env\") == False):\n",
        "    print(\"No .env file found\")\n",
        "from datasets import load_dataset\n",
        "from transformers import AutoModel\n",
        "import tqdm\n",
        "import numpy as np\n",
        "import sys\n",
        "import os\n",
        "import sklearn\n",
        "import sklearn.cluster\n",
        "from sentence_transformers import SentenceTransformer\n",
        "\n",
        "# if path exists at all: \"/Users/malte\", add the mteb package to the path\n",
        "\n",
        "if os.path.exists('/Users/malte'):\n",
        "    sys.path.append('/Users/malte/Developer/embenchmark/packages/mteb')\n",
        "    from packages.mteb.mteb.evaluation.evaluators import ClusteringEvaluator\n",
        "else:\n",
        "    from mteb import ClusteringEvaluator\n",
        "\n",
        "# model = SentenceTransformer('thenlper/gte-base').to(\"cuda\")\n",
        "\n",
        "model = AutoModel.from_pretrained('jinaai/jina-embeddings-v2-base-en', trust_remote_code=True ).to('cuda')"
      ]
    },
    {
      "cell_type": "code",
      "execution_count": 3,
      "metadata": {
        "colab": {
          "base_uri": "https://localhost:8080/"
        },
        "executionInfo": {
          "elapsed": 1821,
          "status": "ok",
          "timestamp": 1707169491938,
          "user": {
            "displayName": "",
            "userId": ""
          },
          "user_tz": -60
        },
        "id": "30u8H7OxE_MX",
        "outputId": "3a4c9ae6-3915-4f2f-a300-1a1d63bc3d33"
      },
      "outputs": [
        {
          "data": {
            "text/plain": [
              "array([-0.0006466 ,  0.00415211,  0.03844247, ..., -0.03725639,\n",
              "       -0.05031286, -0.04948288], dtype=float32)"
            ]
          },
          "execution_count": 3,
          "metadata": {},
          "output_type": "execute_result"
        }
      ],
      "source": [
        "model.encode(\"Lorem ipsum dolor sit amet, consectetur adipiscing elit. Aliquam hendrerit non libero at egestas. Nunc aliquam iaculis orci id lacinia. Nam ac urna congue, dapibus felis ut, condimentum leo. In libero metus, varius nec ultricies at, mattis eget ex. Nam tincidunt rhoncus pretium. Nam quis placerat felis. Donec convallis ante ac euismod pretium. Aliquam magna arcu, tempor et lorem ut, dictum posuere metus. Donec gravida aliquet laoreet. Sed ac massa dolor. Donec tincidunt sem in est ultrices fermentum. Sed in consequat ante, in faucibus urna. Donec iaculis bibendum ipsum, non dapibus urna consequat quis. Aenean eu fringilla libero. Nam egestas lorem leo, id varius risus ultricies id. Nulla in elit tellus. Aliquam hendrerit placerat fringilla. Pellentesque habitant morbi tristique senectus et netus et malesuada fames ac turpis egestas. Nulla facilisi. Integer egestas maximus mi non aliquet. Morbi et tempus urna. Integer volutpat dolor et lorem suscipit, ac ullamcorper ligula elementum. Proin accumsan, sapien sed euismod tempus, quam odio maximus dui, nec lacinia magna nisi vel erat. Donec odio justo, pretium in euismod eu, luctus sit amet nisl. Curabitur sollicitudin, dui vitae venenatis varius, odio sapien dictum arcu, et tincidunt metus eros vitae augue. Sed vel magna ut quam porta interdum. Sed vitae nibh lectus. Vivamus felis turpis, bibendum vel congue in, tristique a ante. Ut leo nisl, ultrices at porttitor eu, ullamcorper id sapien. Praesent molestie, nisl in condimentum auctor, mi sapien interdum odio, a mattis risus ligula nec mi. Fusce consequat ante lorem, id cursus libero facilisis in. Ut nec risus lorem. In pharetra justo eget odio placerat posuere. Nam vel nisl ipsum. Donec ut posuere tortor. Maecenas id enim blandit, pellentesque sem nec, tincidunt dolor. Aliquam consectetur mauris nec nisi volutpat luctus. Nunc tempus dui magna, quis porttitor quam ultrices vitae. Praesent eu mi blandit felis bibendum egestas sit amet non quam. Cras aliquam ultricies tortor id laoreet. Quisque risus augue, accumsan quis vulputate id, vestibulum et dolor. Praesent nulla purus, aliquet vitae orci sit amet, consequat auctor turpis. Duis rhoncus pharetra justo non vehicula. Integer vestibulum iaculis vestibulum. Donec condimentum, purus eu porta blandit, elit ante aliquam lectus, non ultricies felis dolor eu libero. Duis elementum massa quam, sit amet dignissim est malesuada dapibus.\")"
      ]
    },
    {
      "cell_type": "code",
      "execution_count": 1,
      "metadata": {
        "colab": {
          "base_uri": "https://localhost:8080/"
        },
        "executionInfo": {
          "elapsed": 10860,
          "status": "ok",
          "timestamp": 1707169873370,
          "user": {
            "displayName": "",
            "userId": ""
          },
          "user_tz": -60
        },
        "id": "S0BCVaJgQCV9",
        "outputId": "abe0ac0c-e26f-4a04-b66c-160b58c1d786"
      },
      "outputs": [
        {
          "name": "stdout",
          "output_type": "stream",
          "text": [
            "--2024-02-05 21:51:02--  https://huggingface.co/datasets/jinaai/big-patent-clustering/resolve/main/test.jsonl.gz\n",
            "Resolving huggingface.co (huggingface.co)... 18.172.134.88, 18.172.134.24, 18.172.134.4, ...\n",
            "Connecting to huggingface.co (huggingface.co)|18.172.134.88|:443... connected.\n",
            "HTTP request sent, awaiting response... 302 Found\n",
            "Location: https://cdn-lfs.huggingface.co/repos/22/9f/229fe1f0ea52ac8d584246600d3d364c2aa566b34cb51778701d0d3ea97e6146/5075330b8a9d0885e60b6825dd44e76e6002d37fba18a83b91a28069d8553167?response-content-disposition=attachment%3B+filename*%3DUTF-8%27%27test.jsonl.gz%3B+filename%3D%22test.jsonl.gz%22%3B&response-content-type=application%2Fgzip&Expires=1707428694&Policy=eyJTdGF0ZW1lbnQiOlt7IkNvbmRpdGlvbiI6eyJEYXRlTGVzc1RoYW4iOnsiQVdTOkVwb2NoVGltZSI6MTcwNzQyODY5NH19LCJSZXNvdXJjZSI6Imh0dHBzOi8vY2RuLWxmcy5odWdnaW5nZmFjZS5jby9yZXBvcy8yMi85Zi8yMjlmZTFmMGVhNTJhYzhkNTg0MjQ2NjAwZDNkMzY0YzJhYTU2NmIzNGNiNTE3Nzg3MDFkMGQzZWE5N2U2MTQ2LzUwNzUzMzBiOGE5ZDA4ODVlNjBiNjgyNWRkNDRlNzZlNjAwMmQzN2ZiYTE4YTgzYjkxYTI4MDY5ZDg1NTMxNjc%7EcmVzcG9uc2UtY29udGVudC1kaXNwb3NpdGlvbj0qJnJlc3BvbnNlLWNvbnRlbnQtdHlwZT0qIn1dfQ__&Signature=UTUCG04N5%7EC2YSP5YN%7EfD7vMyiWq0eNIrcwByJFrvYX1sTFvh2eM%7E7oUCvIkEPC1tbFVnSQI13MZuPYHKZyFZXOzBhzbkxfMNPpl2sIqfrm%7Ee1kPol4iS3XHzhuhSsS8UWOOD8Y2hEG%7EKqvkgTJVmi8fR3vw1YWBtvobJ0CRb4IXHg-adl5szRiGP8vMbYp-Gr4vpgwN5tiUiLDICUDeCLXZvDYO1e9MAL7bJ6k2OZJzbBiuBPfX94bvGwAbQS4vT%7EorKRWpZaOQU5qPpLrxZPUH2ldUZAfzjmpqetwyH2YDZkqlZmYbXqfFenz6sotK0mdh0wTUaDQDqJHme8giww__&Key-Pair-Id=KVTP0A1DKRTAX [following]\n",
            "--2024-02-05 21:51:03--  https://cdn-lfs.huggingface.co/repos/22/9f/229fe1f0ea52ac8d584246600d3d364c2aa566b34cb51778701d0d3ea97e6146/5075330b8a9d0885e60b6825dd44e76e6002d37fba18a83b91a28069d8553167?response-content-disposition=attachment%3B+filename*%3DUTF-8%27%27test.jsonl.gz%3B+filename%3D%22test.jsonl.gz%22%3B&response-content-type=application%2Fgzip&Expires=1707428694&Policy=eyJTdGF0ZW1lbnQiOlt7IkNvbmRpdGlvbiI6eyJEYXRlTGVzc1RoYW4iOnsiQVdTOkVwb2NoVGltZSI6MTcwNzQyODY5NH19LCJSZXNvdXJjZSI6Imh0dHBzOi8vY2RuLWxmcy5odWdnaW5nZmFjZS5jby9yZXBvcy8yMi85Zi8yMjlmZTFmMGVhNTJhYzhkNTg0MjQ2NjAwZDNkMzY0YzJhYTU2NmIzNGNiNTE3Nzg3MDFkMGQzZWE5N2U2MTQ2LzUwNzUzMzBiOGE5ZDA4ODVlNjBiNjgyNWRkNDRlNzZlNjAwMmQzN2ZiYTE4YTgzYjkxYTI4MDY5ZDg1NTMxNjc%7EcmVzcG9uc2UtY29udGVudC1kaXNwb3NpdGlvbj0qJnJlc3BvbnNlLWNvbnRlbnQtdHlwZT0qIn1dfQ__&Signature=UTUCG04N5%7EC2YSP5YN%7EfD7vMyiWq0eNIrcwByJFrvYX1sTFvh2eM%7E7oUCvIkEPC1tbFVnSQI13MZuPYHKZyFZXOzBhzbkxfMNPpl2sIqfrm%7Ee1kPol4iS3XHzhuhSsS8UWOOD8Y2hEG%7EKqvkgTJVmi8fR3vw1YWBtvobJ0CRb4IXHg-adl5szRiGP8vMbYp-Gr4vpgwN5tiUiLDICUDeCLXZvDYO1e9MAL7bJ6k2OZJzbBiuBPfX94bvGwAbQS4vT%7EorKRWpZaOQU5qPpLrxZPUH2ldUZAfzjmpqetwyH2YDZkqlZmYbXqfFenz6sotK0mdh0wTUaDQDqJHme8giww__&Key-Pair-Id=KVTP0A1DKRTAX\n",
            "Resolving cdn-lfs.huggingface.co (cdn-lfs.huggingface.co)... 18.172.122.62, 18.172.122.85, 18.172.122.33, ...\n",
            "Connecting to cdn-lfs.huggingface.co (cdn-lfs.huggingface.co)|18.172.122.62|:443... connected.\n",
            "HTTP request sent, awaiting response... 200 OK\n",
            "Length: 500992629 (478M) [application/gzip]\n",
            "Saving to: ‘test.jsonl.gz’\n",
            "\n",
            "test.jsonl.gz       100%[===================>] 477.78M  51.1MB/s    in 9.6s    \n",
            "\n",
            "2024-02-05 21:51:13 (49.6 MB/s) - ‘test.jsonl.gz’ saved [500992629/500992629]\n",
            "\n"
          ]
        }
      ],
      "source": [
        "# download file from url\n",
        "# https://huggingface.co/datasets/jinaai/big-patent-clustering/resolve/main/test.jsonl.gz\n",
        "!wget https://huggingface.co/datasets/jinaai/big-patent-clustering/resolve/main/test.jsonl.gz"
      ]
    },
    {
      "cell_type": "code",
      "execution_count": 2,
      "metadata": {
        "executionInfo": {
          "elapsed": 11,
          "status": "ok",
          "timestamp": 1707170359634,
          "user": {
            "displayName": "",
            "userId": ""
          },
          "user_tz": -60
        },
        "id": "0ZRbSpglQQkp"
      },
      "outputs": [],
      "source": [
        "# load dataset local file: ./test.jsonl.gz:\n"
      ]
    },
    {
      "cell_type": "code",
      "execution_count": 4,
      "metadata": {
        "executionInfo": {
          "elapsed": 351,
          "status": "ok",
          "timestamp": 1707170944462,
          "user": {
            "displayName": "",
            "userId": ""
          },
          "user_tz": -60
        },
        "id": "BgNzhCYPR9xt"
      },
      "outputs": [],
      "source": [
        "dataset = load_dataset(\"text\", data_files={\"train\": [\"test.jsonl.gz\"]})\n",
        "\n",
        "\n"
      ]
    },
    {
      "cell_type": "code",
      "execution_count": 26,
      "metadata": {
        "executionInfo": {
          "elapsed": 4502,
          "status": "ok",
          "timestamp": 1707171755557,
          "user": {
            "displayName": "",
            "userId": ""
          },
          "user_tz": -60
        },
        "id": "Dd6TPoStSjNb"
      },
      "outputs": [],
      "source": [
        "\n",
        "# get keys of dataset[\"train\"][0]\n",
        "dataset[\"train\"][0]['text']\n",
        "\n",
        "# parse dataset[\"train\"][0]['text'] json string\n",
        "import json\n",
        "decoded = json.loads(dataset[\"train\"][0]['text'])\n",
        "\n",
        "sentences, labels = decoded['sentences'], decoded['labels']\n",
        "sentences, labels = sentences[:60], labels[:60]\n",
        "\n",
        "# split sentences and labels into three\n",
        "\n",
        "# split into three parts\n",
        "n = len(sentences)\n",
        "n1 = n // 3\n",
        "\n",
        "sentences1, sentences2, sentences3 = sentences[:n1], sentences[n1:2*n1], sentences[2*n1:]\n",
        "labels1, labels2, labels3 = labels[:n1], labels[n1:2*n1], labels[2*n1:]\n",
        "\n",
        "ds = [{\n",
        "    \"sentences\": sentences1,\n",
        "    \"labels\": labels1\n",
        "}, {\n",
        "    \"sentences\": sentences2,\n",
        "    \"labels\": labels2\n",
        "}, {\n",
        "    \"sentences\": sentences3,\n",
        "    \"labels\": labels3\n",
        "}]\n",
        "\n",
        "ds = ds[:1]\n",
        "\n",
        "#\n",
        "\n",
        "\n",
        "\n",
        "\n",
        "# create new dataset from decoded"
      ]
    },
    {
      "cell_type": "code",
      "execution_count": 22,
      "metadata": {
        "colab": {
          "base_uri": "https://localhost:8080/"
        },
        "executionInfo": {
          "elapsed": 869,
          "status": "ok",
          "timestamp": 1707171331455,
          "user": {
            "displayName": "",
            "userId": ""
          },
          "user_tz": -60
        },
        "id": "t4ZjexUfE_MX",
        "outputId": "90fb8834-8bda-4f7b-f41e-8fb19f99cd42"
      },
      "outputs": [
        {
          "data": {
            "text/plain": [
              "8333"
            ]
          },
          "execution_count": 22,
          "metadata": {},
          "output_type": "execute_result"
        }
      ],
      "source": [
        "#dataset = load_dataset(\"jinaai/big-patent-clustering\", split=\"test\")\n",
        "#dataset[\"train\"][0]\n",
        "len(ds[0][\"sentences\"])"
      ]
    },
    {
      "cell_type": "code",
      "execution_count": 29,
      "metadata": {
        "executionInfo": {
          "elapsed": 326,
          "status": "ok",
          "timestamp": 1707171874004,
          "user": {
            "displayName": "",
            "userId": ""
          },
          "user_tz": -60
        },
        "id": "VTjPVQYbE_MY"
      },
      "outputs": [],
      "source": [
        "def evaluator(sentences, labels, model, max_length=512, batch_size=1, clustering_batch_size=500):\n",
        "    # cut sentences to max_length * 2 words to avoid OOM\n",
        "    sentences = [s[:len(s.split()) * 2] for s in sentences]\n",
        "\n",
        "    # model.max_seq_length = max_length\n",
        "\n",
        "    corpus_embeddings = np.asarray(model.encode(sentences, batch_size=batch_size, max_length= max_length))\n",
        "\n",
        "    clustering_model = sklearn.cluster.MiniBatchKMeans(\n",
        "        n_clusters=len(set(labels)), batch_size=clustering_batch_size, n_init=\"auto\"\n",
        "    )\n",
        "    clustering_model.fit(corpus_embeddings)\n",
        "\n",
        "    cluster_assignment = clustering_model.labels_\n",
        "\n",
        "    v_measure = sklearn.metrics.cluster.v_measure_score(labels, cluster_assignment)\n",
        "\n",
        "    return {\"v_measure\": v_measure}"
      ]
    },
    {
      "cell_type": "code",
      "execution_count": 23,
      "metadata": {
        "executionInfo": {
          "elapsed": 876,
          "status": "ok",
          "timestamp": 1707171348249,
          "user": {
            "displayName": "",
            "userId": ""
          },
          "user_tz": -60
        },
        "id": "TgkWiylsE_MY"
      },
      "outputs": [],
      "source": [
        "def evaluate(model,  max_length=512, split=\"test\", **kwargs):\n",
        "    v_measures = []\n",
        "    for cluster_set in tqdm.tqdm(ds, desc=\"Clustering\"):\n",
        "        metrics = evaluator(sentences,labels, model, max_length=max_length)\n",
        "        v_measures.append(metrics[\"v_measure\"])\n",
        "\n",
        "    v_mean = np.mean(v_measures)\n",
        "    v_std = np.std(v_measures)\n",
        "    return {\"v_measure\": v_mean, \"v_measure_std\": v_std}"
      ]
    },
    {
      "cell_type": "code",
      "execution_count": 10,
      "metadata": {
        "colab": {
          "base_uri": "https://localhost:8080/",
          "height": 756
        },
        "executionInfo": {
          "elapsed": 12543,
          "status": "error",
          "timestamp": 1707171773532,
          "user": {
            "displayName": "",
            "userId": ""
          },
          "user_tz": -60
        },
        "id": "GqPA0VetE_MY",
        "outputId": "5f9cf890-7c13-49b5-e9f5-db792d3f8a25"
      },
      "outputs": [
        {
          "ename": "NameError",
          "evalue": "name 'evaluate' is not defined",
          "output_type": "error",
          "traceback": [
            "\u001b[0;31m---------------------------------------------------------------------------\u001b[0m",
            "\u001b[0;31mNameError\u001b[0m                                 Traceback (most recent call last)",
            "Cell \u001b[0;32mIn[10], line 4\u001b[0m\n\u001b[1;32m      1\u001b[0m max_lengths \u001b[38;5;241m=\u001b[39m [\u001b[38;5;241m10\u001b[39m, \u001b[38;5;241m20\u001b[39m, \u001b[38;5;241m50\u001b[39m, \u001b[38;5;241m100\u001b[39m, \u001b[38;5;241m200\u001b[39m, \u001b[38;5;241m500\u001b[39m, \u001b[38;5;241m1000\u001b[39m, \u001b[38;5;241m2000\u001b[39m, \u001b[38;5;241m5000\u001b[39m, \u001b[38;5;241m8192\u001b[39m]\n\u001b[1;32m      3\u001b[0m \u001b[38;5;28;01mfor\u001b[39;00m max_length \u001b[38;5;129;01min\u001b[39;00m max_lengths:\n\u001b[0;32m----> 4\u001b[0m   result \u001b[38;5;241m=\u001b[39m \u001b[43mevaluate\u001b[49m(model, max_length\u001b[38;5;241m=\u001b[39mmax_length)\n\u001b[1;32m      5\u001b[0m   \u001b[38;5;28mprint\u001b[39m(max_length, result)\n\u001b[1;32m      6\u001b[0m   \u001b[38;5;66;03m# append line to file\u001b[39;00m\n",
            "\u001b[0;31mNameError\u001b[0m: name 'evaluate' is not defined"
          ]
        }
      ],
      "source": [
        "max_lengths = [10, 20, 50, 100, 200, 500, 1000, 2000, 5000, 8192]\n",
        "\n",
        "for max_length in max_lengths:\n",
        "  result = evaluate(model, max_length=max_length)\n",
        "  print(max_length, result)\n",
        "  # append line to file\n",
        "  with open(f\"jinaai_big-patent-clustering.txt\", \"a\") as file:\n",
        "    file.write(f\"\\\"{max_length}\\\": {result},\\n\")"
      ]
    },
    {
      "cell_type": "code",
      "execution_count": 15,
      "metadata": {},
      "outputs": [],
      "source": [
        "jina_results = {\n",
        "    \"20\": {\"v_measure\": 0.6435854175764263, \"v_measure_std\": 0.0},\n",
        "    \"50\": {\"v_measure\": 0.7937161261612886, \"v_measure_std\": 0.0},\n",
        "    \"100\": {\"v_measure\": 0.7569292087078852, \"v_measure_std\": 0.0},\n",
        "    \"200\": {\"v_measure\": 0.7837115279149208, \"v_measure_std\": 0.0},\n",
        "    \"500\": {\"v_measure\": 0.783320396864822, \"v_measure_std\": 0.0},\n",
        "    \"1000\": {\"v_measure\": 0.7853601696893313, \"v_measure_std\": 0.0},\n",
        "    \"2000\": {\"v_measure\": 0.8286202156764235, \"v_measure_std\": 0.0},\n",
        "    \"5000\": {\"v_measure\": 0.8186308775146232, \"v_measure_std\": 0.0},\n",
        "    \"10000\": {\"v_measure\": 0.8395288562539386, \"v_measure_std\": 0.0},\n",
        "    \"20000\": {\"v_measure\": 0.801056300581111, \"v_measure_std\": 0.0},\n",
        "}\n",
        "\n",
        "gte_results = {\n",
        "    # \"10\": {'v_measure': 0.20267838077891376, 'v_measure_std': 0.0},\n",
        "    \"20\": {'v_measure': 0.237214610178106, 'v_measure_std': 0.0},\n",
        "    \"50\": {'v_measure': 0.27836851841068155, 'v_measure_std': 0.0},\n",
        "    \"100\": {'v_measure': 0.1867017971428439, 'v_measure_std': 0.0},\n",
        "    \"200\": {'v_measure': 0.3521228946014008, 'v_measure_std': 0.0},\n",
        "    \"500\": {'v_measure': 0.24973108569093466, 'v_measure_std': 0.0},\n",
        "    \"1000\": {'v_measure': 0.24973108569093466, 'v_measure_std': 0.0},\n",
        "    \"2000\": {'v_measure': 0.24973108569093466, 'v_measure_std': 0.0},\n",
        "    \"5000\": {'v_measure': 0.24973108569093466, 'v_measure_std': 0.0},\n",
        "    \"10000\": {'v_measure': 0.24973108569093466, 'v_measure_std': 0.0},\n",
        "    \"20000\": {'v_measure': 0.24973108569093466, 'v_measure_std': 0.0},\n",
        "\n",
        "}"
      ]
    },
    {
      "cell_type": "markdown",
      "metadata": {
        "id": "qEfFuXiGE_MY"
      },
      "source": [
        "Split: 2000\n",
        "2000 :  {'v_measure': 0.8144683159455076, 'v_measure_std': 0.0}\n",
        "Split: 5000\n",
        "5000 :  {'v_measure': 0.8143484186457459, 'v_measure_std': 0.0}\n",
        "Split: 10000\n",
        "10000 :  {'v_measure': 0.8205899050814626, 'v_measure_std': 0.0}\n",
        "Split: 20000\n",
        "20000 :  {'v_measure': 0.7590519167416516, 'v_measure_std': 0.0}\n"
      ]
    },
    {
      "cell_type": "code",
      "execution_count": 18,
      "metadata": {
        "id": "43osUqcaE_MY"
      },
      "outputs": [
        {
          "data": {
            "image/png": "[encoded data removed]",
            "text/plain": [
              "<Figure size 640x480 with 1 Axes>"
            ]
          },
          "metadata": {},
          "output_type": "display_data"
        }
      ],
      "source": [
        "# plot results\n",
        "import numpy as np\n",
        "import matplotlib.pyplot as plt\n",
        "\n",
        "plt.rcParams[\"font.family\"] = \"Inter\"\n",
        "plt.rcParams[\"axes.prop_cycle\"] = plt.cycler(\"color\", [ \"#4269D0\",\"#3BA951\", \"#EFB117\", \"#FF725C\"])\n",
        "\n",
        "\n",
        "# plot gte and jina results in one plot\n",
        "fig, ax = plt.subplots()\n",
        "\n",
        "x = np.arange(len(jina_results))\n",
        "\n",
        "rects1 = ax.bar(x - 0.2, [gte_results[str(split)][\"v_measure\"] for split in gte_results], 0.4, label='GTE')\n",
        "rects2 = ax.bar(x + 0.2, [jina_results[str(split)][\"v_measure\"] for split in jina_results], 0.4, label='Jina')\n",
        "\n",
        "ax.set_ylabel('V-Measure')\n",
        "ax.set_xlabel('Split')\n",
        "\n",
        "ax.set_xticks(x)\n",
        "ax.set_xticklabels(jina_results.keys())\n",
        "\n",
        "# add title\n",
        "ax.set_title('Wiki Cities Clustering Benchmark')\n",
        "\n",
        "ax.legend()\n",
        "plt.savefig('big-patent-clustering.png', dpi=300)\n",
        "plt.show()"
      ]
    }
  ],
  "metadata": {
    "colab": {
      "provenance": []
    },
    "kernelspec": {
      "display_name": "embenchmark2",
      "language": "python",
      "name": "python3"
    },
    "language_info": {
      "codemirror_mode": {
        "name": "ipython",
        "version": 3
      },
      "file_extension": ".py",
      "mimetype": "text/x-python",
      "name": "python",
      "nbconvert_exporter": "python",
      "pygments_lexer": "ipython3",
      "version": "3.9.18"
    }
  },
  "nbformat": 4,
  "nbformat_minor": 0
}
