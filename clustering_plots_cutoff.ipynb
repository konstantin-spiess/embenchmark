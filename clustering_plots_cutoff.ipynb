{
 "cells": [
  {
   "cell_type": "code",
   "execution_count": 11,
   "metadata": {},
   "outputs": [],
   "source": [
    "from dotenv import load_dotenv\n",
    "if(load_dotenv(\".env\") == False):\n",
    "    print(\"No .env file found\")\n",
    "from datasets import load_dataset\n",
    "from transformers import AutoModel\n",
    "import matplotlib.pyplot as plt\n",
    "import pandas as pd\n",
    "import numpy as np"
   ]
  },
  {
   "cell_type": "code",
   "execution_count": 3,
   "metadata": {},
   "outputs": [
    {
     "name": "stderr",
     "output_type": "stream",
     "text": [
      "/Users/malte/miniconda3/envs/embenchmark2/lib/python3.9/site-packages/datasets/table.py:1421: FutureWarning: promote has been superseded by mode='default'.\n",
      "  table = cls._concat_blocks(blocks, axis=0)\n"
     ]
    }
   ],
   "source": [
    "big_patent_dataset = load_dataset(\"jinaai/big-patent-clustering\")\n",
    "wiki_cities_dataset = load_dataset(\"jinaai/cities_wiki_clustering\")"
   ]
  },
  {
   "cell_type": "code",
   "execution_count": 30,
   "metadata": {},
   "outputs": [],
   "source": [
    "# import results from csv files as dataframe\n",
    "\n",
    "cutoff_gte_bigpatent = pd.read_csv(\"results/clustering/cutoff_gte_base_big_patent.csv\", index_col=0).T\n",
    "cutoff_jina_bigpatent = pd.read_csv(\"results/clustering/cutoff_jina_big_patent.csv\", index_col=0).T\n",
    "\n",
    "cutoff_gte_wikicities = pd.read_csv(\"results/clustering/cutoff_gte_base_wiki_cities.csv\", index_col=0)\n",
    "cutoff_jina_wikicities = pd.read_csv(\"results/clustering/cutoff_jina_wiki_cities.csv\", index_col=0)"
   ]
  },
  {
   "cell_type": "code",
   "execution_count": null,
   "metadata": {},
   "outputs": [],
   "source": [
    "plt.rcParams[\"font.family\"] = \"Inter\"\n",
    "plt.rcParams[\"axes.prop_cycle\"] = plt.cycler(\"color\", [ \"#4269D0\",\"#3BA951\", \"#EFB117\", \"#FF725C\"])\n",
    "\n",
    "\n",
    "# plot gte and jina results in one plot\n",
    "fig, ax = plt.subplots()\n",
    "\n",
    "x = np.arange(len(cutoff_gte_bigpatent))\n",
    "\n",
    "rects1 = ax.bar(x - 0.2, cutoff_gte_bigpatent['v_measure'], 0.4, label='GTE')\n",
    "rects2 = ax.bar(x + 0.2, cutoff_jina_bigpatent['v_measure'], 0.4, label='Jina')\n",
    "\n",
    "\n",
    "ax.set_ylabel('V-Measure')\n",
    "ax.set_xlabel('Maximum sequence length (tokens)')\n",
    "\n",
    "ax.set_xticks(x)\n",
    "ax.set_xticklabels(cutoff_gte_bigpatent.index)\n",
    "\n",
    "# add title\n",
    "ax.set_title('Big Patent Clustering - maximum sequence length')\n",
    "\n",
    "ax.legend()\n",
    "plt.savefig('./results/clustering/big_patent_buckets.png', dpi=300)\n",
    "plt.show()"
   ]
  },
  {
   "cell_type": "code",
   "execution_count": null,
   "metadata": {},
   "outputs": [],
   "source": [
    "plt.rcParams[\"font.family\"] = \"Inter\"\n",
    "plt.rcParams[\"axes.prop_cycle\"] = plt.cycler(\"color\", [ \"#4269D0\",\"#3BA951\", \"#EFB117\", \"#FF725C\"])\n",
    "\n",
    "\n",
    "# plot gte and jina results in one plot\n",
    "fig, ax = plt.subplots()\n",
    "\n",
    "x = np.arange(len(cutoff_gte_wikicities))\n",
    "\n",
    "rects1 = ax.bar(x - 0.2, cutoff_gte_wikicities['v_measure'], 0.4, label='GTE')\n",
    "rects2 = ax.bar(x + 0.2, cutoff_jina_wikicities['v_measure'], 0.4, label='Jina')\n",
    "\n",
    "\n",
    "ax.set_ylabel('V-Measure')\n",
    "ax.set_xlabel('Split')\n",
    "\n",
    "ax.set_xticks(x)\n",
    "ax.set_xticklabels(cutoff_gte_bigpatent.index)\n",
    "\n",
    "# add title\n",
    "ax.set_title('Wiki Cities Clustering - maximum sequence length')\n",
    "\n",
    "ax.legend()\n",
    "plt.savefig('./results/clustering/wiki_cities_buckets.png', dpi=300)\n",
    "plt.show()"
   ]
  }
 ],
 "metadata": {
  "kernelspec": {
   "display_name": "embenchmark2",
   "language": "python",
   "name": "python3"
  },
  "language_info": {
   "codemirror_mode": {
    "name": "ipython",
    "version": 3
   },
   "file_extension": ".py",
   "mimetype": "text/x-python",
   "name": "python",
   "nbconvert_exporter": "python",
   "pygments_lexer": "ipython3",
   "version": "3.9.18"
  }
 },
 "nbformat": 4,
 "nbformat_minor": 2
}
