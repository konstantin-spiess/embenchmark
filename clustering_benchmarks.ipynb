{
 "cells": [
  {
   "cell_type": "code",
   "execution_count": 1,
   "metadata": {},
   "outputs": [
    {
     "name": "stdout",
     "output_type": "stream",
     "text": [
      "Requirement already satisfied: python-dotenv in /Users/malte/miniconda3/envs/embenchmark2/lib/python3.9/site-packages (1.0.1)\n",
      "Requirement already satisfied: datasets in /Users/malte/miniconda3/envs/embenchmark2/lib/python3.9/site-packages (2.14.6)\n",
      "Requirement already satisfied: transformers in /Users/malte/miniconda3/envs/embenchmark2/lib/python3.9/site-packages (4.37.2)\n",
      "Requirement already satisfied: mteb in /Users/malte/miniconda3/envs/embenchmark2/lib/python3.9/site-packages (1.1.2)\n",
      "Requirement already satisfied: numpy>=1.17 in /Users/malte/miniconda3/envs/embenchmark2/lib/python3.9/site-packages (from datasets) (1.26.1)\n",
      "Requirement already satisfied: pyarrow>=8.0.0 in /Users/malte/miniconda3/envs/embenchmark2/lib/python3.9/site-packages (from datasets) (14.0.0)\n",
      "Requirement already satisfied: dill<0.3.8,>=0.3.0 in /Users/malte/miniconda3/envs/embenchmark2/lib/python3.9/site-packages (from datasets) (0.3.7)\n",
      "Requirement already satisfied: pandas in /Users/malte/miniconda3/envs/embenchmark2/lib/python3.9/site-packages (from datasets) (2.1.2)\n",
      "Requirement already satisfied: requests>=2.19.0 in /Users/malte/miniconda3/envs/embenchmark2/lib/python3.9/site-packages (from datasets) (2.31.0)\n",
      "Requirement already satisfied: tqdm>=4.62.1 in /Users/malte/miniconda3/envs/embenchmark2/lib/python3.9/site-packages (from datasets) (4.66.1)\n",
      "Requirement already satisfied: xxhash in /Users/malte/miniconda3/envs/embenchmark2/lib/python3.9/site-packages (from datasets) (3.4.1)\n",
      "Requirement already satisfied: multiprocess in /Users/malte/miniconda3/envs/embenchmark2/lib/python3.9/site-packages (from datasets) (0.70.15)\n",
      "Requirement already satisfied: fsspec<=2023.10.0,>=2023.1.0 in /Users/malte/miniconda3/envs/embenchmark2/lib/python3.9/site-packages (from fsspec[http]<=2023.10.0,>=2023.1.0->datasets) (2023.10.0)\n",
      "Requirement already satisfied: aiohttp in /Users/malte/miniconda3/envs/embenchmark2/lib/python3.9/site-packages (from datasets) (3.8.6)\n",
      "Requirement already satisfied: huggingface-hub<1.0.0,>=0.14.0 in /Users/malte/miniconda3/envs/embenchmark2/lib/python3.9/site-packages (from datasets) (0.20.3)\n",
      "Requirement already satisfied: packaging in /Users/malte/miniconda3/envs/embenchmark2/lib/python3.9/site-packages (from datasets) (23.2)\n",
      "Requirement already satisfied: pyyaml>=5.1 in /Users/malte/miniconda3/envs/embenchmark2/lib/python3.9/site-packages (from datasets) (6.0.1)\n",
      "Requirement already satisfied: filelock in /Users/malte/miniconda3/envs/embenchmark2/lib/python3.9/site-packages (from transformers) (3.13.1)\n",
      "Requirement already satisfied: regex!=2019.12.17 in /Users/malte/miniconda3/envs/embenchmark2/lib/python3.9/site-packages (from transformers) (2023.10.3)\n",
      "Requirement already satisfied: tokenizers<0.19,>=0.14 in /Users/malte/miniconda3/envs/embenchmark2/lib/python3.9/site-packages (from transformers) (0.15.1)\n",
      "Requirement already satisfied: safetensors>=0.4.1 in /Users/malte/miniconda3/envs/embenchmark2/lib/python3.9/site-packages (from transformers) (0.4.2)\n",
      "Requirement already satisfied: jsonlines in /Users/malte/miniconda3/envs/embenchmark2/lib/python3.9/site-packages (from mteb) (4.0.0)\n",
      "Requirement already satisfied: scikit-learn>=1.0.2 in /Users/malte/miniconda3/envs/embenchmark2/lib/python3.9/site-packages (from mteb) (1.3.2)\n",
      "Requirement already satisfied: scipy in /Users/malte/miniconda3/envs/embenchmark2/lib/python3.9/site-packages (from mteb) (1.11.3)\n",
      "Requirement already satisfied: sentence-transformers>=2.2.0 in /Users/malte/miniconda3/envs/embenchmark2/lib/python3.9/site-packages (from mteb) (2.2.2)\n",
      "Requirement already satisfied: torch in /Users/malte/miniconda3/envs/embenchmark2/lib/python3.9/site-packages (from mteb) (2.1.0)\n",
      "Requirement already satisfied: rich in /Users/malte/miniconda3/envs/embenchmark2/lib/python3.9/site-packages (from mteb) (13.6.0)\n",
      "Requirement already satisfied: attrs>=17.3.0 in /Users/malte/miniconda3/envs/embenchmark2/lib/python3.9/site-packages (from aiohttp->datasets) (23.1.0)\n",
      "Requirement already satisfied: charset-normalizer<4.0,>=2.0 in /Users/malte/miniconda3/envs/embenchmark2/lib/python3.9/site-packages (from aiohttp->datasets) (3.3.2)\n",
      "Requirement already satisfied: multidict<7.0,>=4.5 in /Users/malte/miniconda3/envs/embenchmark2/lib/python3.9/site-packages (from aiohttp->datasets) (6.0.4)\n",
      "Requirement already satisfied: async-timeout<5.0,>=4.0.0a3 in /Users/malte/miniconda3/envs/embenchmark2/lib/python3.9/site-packages (from aiohttp->datasets) (4.0.3)\n",
      "Requirement already satisfied: yarl<2.0,>=1.0 in /Users/malte/miniconda3/envs/embenchmark2/lib/python3.9/site-packages (from aiohttp->datasets) (1.9.2)\n",
      "Requirement already satisfied: frozenlist>=1.1.1 in /Users/malte/miniconda3/envs/embenchmark2/lib/python3.9/site-packages (from aiohttp->datasets) (1.4.0)\n",
      "Requirement already satisfied: aiosignal>=1.1.2 in /Users/malte/miniconda3/envs/embenchmark2/lib/python3.9/site-packages (from aiohttp->datasets) (1.3.1)\n",
      "Requirement already satisfied: typing-extensions>=3.7.4.3 in /Users/malte/miniconda3/envs/embenchmark2/lib/python3.9/site-packages (from huggingface-hub<1.0.0,>=0.14.0->datasets) (4.8.0)\n",
      "Requirement already satisfied: idna<4,>=2.5 in /Users/malte/miniconda3/envs/embenchmark2/lib/python3.9/site-packages (from requests>=2.19.0->datasets) (3.4)\n",
      "Requirement already satisfied: urllib3<3,>=1.21.1 in /Users/malte/miniconda3/envs/embenchmark2/lib/python3.9/site-packages (from requests>=2.19.0->datasets) (2.0.7)\n",
      "Requirement already satisfied: certifi>=2017.4.17 in /Users/malte/miniconda3/envs/embenchmark2/lib/python3.9/site-packages (from requests>=2.19.0->datasets) (2023.7.22)\n",
      "Requirement already satisfied: joblib>=1.1.1 in /Users/malte/miniconda3/envs/embenchmark2/lib/python3.9/site-packages (from scikit-learn>=1.0.2->mteb) (1.3.2)\n",
      "Requirement already satisfied: threadpoolctl>=2.0.0 in /Users/malte/miniconda3/envs/embenchmark2/lib/python3.9/site-packages (from scikit-learn>=1.0.2->mteb) (3.2.0)\n",
      "Requirement already satisfied: torchvision in /Users/malte/miniconda3/envs/embenchmark2/lib/python3.9/site-packages (from sentence-transformers>=2.2.0->mteb) (0.16.0)\n",
      "Requirement already satisfied: nltk in /Users/malte/miniconda3/envs/embenchmark2/lib/python3.9/site-packages (from sentence-transformers>=2.2.0->mteb) (3.8.1)\n",
      "Requirement already satisfied: sentencepiece in /Users/malte/miniconda3/envs/embenchmark2/lib/python3.9/site-packages (from sentence-transformers>=2.2.0->mteb) (0.1.99)\n",
      "Requirement already satisfied: sympy in /Users/malte/miniconda3/envs/embenchmark2/lib/python3.9/site-packages (from torch->mteb) (1.12)\n",
      "Requirement already satisfied: networkx in /Users/malte/miniconda3/envs/embenchmark2/lib/python3.9/site-packages (from torch->mteb) (3.2.1)\n",
      "Requirement already satisfied: jinja2 in /Users/malte/miniconda3/envs/embenchmark2/lib/python3.9/site-packages (from torch->mteb) (3.1.2)\n",
      "Requirement already satisfied: python-dateutil>=2.8.2 in /Users/malte/miniconda3/envs/embenchmark2/lib/python3.9/site-packages (from pandas->datasets) (2.8.2)\n",
      "Requirement already satisfied: pytz>=2020.1 in /Users/malte/miniconda3/envs/embenchmark2/lib/python3.9/site-packages (from pandas->datasets) (2023.3.post1)\n",
      "Requirement already satisfied: tzdata>=2022.1 in /Users/malte/miniconda3/envs/embenchmark2/lib/python3.9/site-packages (from pandas->datasets) (2023.3)\n",
      "Requirement already satisfied: markdown-it-py>=2.2.0 in /Users/malte/miniconda3/envs/embenchmark2/lib/python3.9/site-packages (from rich->mteb) (3.0.0)\n",
      "Requirement already satisfied: pygments<3.0.0,>=2.13.0 in /Users/malte/miniconda3/envs/embenchmark2/lib/python3.9/site-packages (from rich->mteb) (2.16.1)\n",
      "Requirement already satisfied: mdurl~=0.1 in /Users/malte/miniconda3/envs/embenchmark2/lib/python3.9/site-packages (from markdown-it-py>=2.2.0->rich->mteb) (0.1.2)\n",
      "Requirement already satisfied: six>=1.5 in /Users/malte/miniconda3/envs/embenchmark2/lib/python3.9/site-packages (from python-dateutil>=2.8.2->pandas->datasets) (1.16.0)\n",
      "Requirement already satisfied: MarkupSafe>=2.0 in /Users/malte/miniconda3/envs/embenchmark2/lib/python3.9/site-packages (from jinja2->torch->mteb) (2.1.3)\n",
      "Requirement already satisfied: click in /Users/malte/miniconda3/envs/embenchmark2/lib/python3.9/site-packages (from nltk->sentence-transformers>=2.2.0->mteb) (8.1.7)\n",
      "Requirement already satisfied: mpmath>=0.19 in /Users/malte/miniconda3/envs/embenchmark2/lib/python3.9/site-packages (from sympy->torch->mteb) (1.3.0)\n",
      "Requirement already satisfied: pillow!=8.3.*,>=5.3.0 in /Users/malte/miniconda3/envs/embenchmark2/lib/python3.9/site-packages (from torchvision->sentence-transformers>=2.2.0->mteb) (10.1.0)\n",
      "Note: you may need to restart the kernel to use updated packages.\n"
     ]
    }
   ],
   "source": [
    "%pip install python-dotenv datasets transformers mteb"
   ]
  },
  {
   "cell_type": "code",
   "execution_count": 1,
   "metadata": {},
   "outputs": [],
   "source": [
    "# Helper Functions & Dependencies\n",
    "from dotenv import load_dotenv\n",
    "if(load_dotenv(\".env\") == False):\n",
    "    print(\"No .env file found\")\n",
    "from datasets import load_dataset\n",
    "from transformers import AutoModel\n",
    "import matplotlib.pyplot as plt\n",
    "import numpy as np\n",
    "import pandas as pd\n",
    "from mteb.evaluation.evaluators import ClusteringEvaluator\n",
    "from sentence_transformers import SentenceTransformer\n",
    "\n",
    "\n",
    "def split_dataset_by_word_count(\n",
    "    dataset, split=\"test\", splits=[500, 1000, 2000, 5000, 10000, 20000, 50000, 100000]\n",
    "):\n",
    "    # split dataset into bins of words of max length:\n",
    "    binned_clusters = {split: {\"sentences\": [], \"labels\": []} for split in splits}\n",
    "\n",
    "    for cluster_set in dataset[split]:\n",
    "        for i in range(len(cluster_set[\"sentences\"])):\n",
    "            sentence = cluster_set[\"sentences\"][i]\n",
    "            label = cluster_set[\"labels\"][i]\n",
    "            words = len(sentence.split())\n",
    "            for split in splits:\n",
    "                if words <= split:\n",
    "                    binned_clusters[split][\"sentences\"].append(sentence)\n",
    "                    binned_clusters[split][\"labels\"].append(label)\n",
    "                    break\n",
    "\n",
    "    return binned_clusters\n",
    "\n",
    "def evaluate_binned(model, sentences, labels, **kwargs):\n",
    "  \"\"\"\n",
    "  Evaluate clustering using binned dataset\n",
    "  \"\"\"\n",
    "  v_measures = []\n",
    "\n",
    "  sentence_chunk = sentences\n",
    "  label_chunk = labels\n",
    "\n",
    "  evaluator = ClusteringEvaluator(sentence_chunk, label_chunk, **kwargs, batch_size=1)\n",
    "  metrics = evaluator(model)\n",
    "  v_measures.append(metrics[\"v_measure\"])\n",
    "\n",
    "  v_mean = np.mean(v_measures)\n",
    "  v_std = np.std(v_measures)\n",
    "  return {\"v_measure\": v_mean, \"v_measure_std\": v_std}\n",
    "\n",
    "def run_binned_evaluation(model, split_dataset):\n",
    "    # run evaluation on each bin\n",
    "    results = {}\n",
    "    \n",
    "    for split in split_dataset:\n",
    "        print(f\"Running evaluation on {split} \")\n",
    "        results[split] = evaluate_binned(model, split_dataset[split][\"sentences\"], split_dataset[split][\"labels\"])\n",
    "    return results\n",
    "\n",
    "# clustering benchmark, store results in dataframe and write to csv\n",
    "def run_binned_benchmark(model_id, model, binned_dataset, dataset_id):\n",
    "    results = {}\n",
    "\n",
    "\n",
    "    for split in binned_dataset:\n",
    "        print(f\"Running evaluation on {split} samples\")\n",
    "        results[split] = evaluate_binned(model, binned_dataset[split][\"sentences\"], binned_dataset[split][\"labels\"])\n",
    "\n",
    "    df = pd.DataFrame(results)\n",
    "    df.to_csv(f\"results/clustering/binned_{model_id}_{dataset_id}.csv\")\n",
    "    return df\n",
    "\n",
    "def decimate_dataset(dataset, decimation_factor=0.1):\n",
    "    \"\"\"\n",
    "    Randomly decimate a clustering dataset\n",
    "    \"\"\"\n",
    "    \n",
    "    decimated_dataset = {split: {\"sentences\": [], \"labels\": []} for split in dataset}\n",
    "\n",
    "    for split in dataset:\n",
    "        for i in range(len(dataset[split][\"sentences\"])):\n",
    "            if np.random.rand() < decimation_factor or i == 0:\n",
    "                decimated_dataset[split][\"sentences\"].append(dataset[split][\"sentences\"][i])\n",
    "                decimated_dataset[split][\"labels\"].append(dataset[split][\"labels\"][i])    \n",
    "\n",
    "    return decimated_dataset"
   ]
  },
  {
   "cell_type": "code",
   "execution_count": 2,
   "metadata": {},
   "outputs": [
    {
     "name": "stderr",
     "output_type": "stream",
     "text": [
      "/Users/malte/miniconda3/envs/embenchmark2/lib/python3.9/site-packages/datasets/table.py:1421: FutureWarning: promote has been superseded by mode='default'.\n",
      "  table = cls._concat_blocks(blocks, axis=0)\n"
     ]
    }
   ],
   "source": [
    "big_patent_dataset = load_dataset(\"jinaai/big-patent-clustering\")\n",
    "wiki_cities_dataset = load_dataset(\"jinaai/cities_wiki_clustering\")"
   ]
  },
  {
   "cell_type": "code",
   "execution_count": 3,
   "metadata": {},
   "outputs": [],
   "source": [
    "binned_big_patent_dataset = split_dataset_by_word_count(big_patent_dataset, \"test\", [500, 1000, 2000, 5000, 10000, 20000, 50000, 100000])\n",
    "binned_wiki_cities_dataset = split_dataset_by_word_count(wiki_cities_dataset, \"test\", [20, 50, 100, 200, 500, 1000, 2000, 5000, 10000, 20000])"
   ]
  },
  {
   "cell_type": "code",
   "execution_count": 4,
   "metadata": {},
   "outputs": [
    {
     "name": "stdout",
     "output_type": "stream",
     "text": [
      "500: 1\n",
      "1000: 1\n",
      "2000: 6\n",
      "5000: 38\n",
      "10000: 17\n",
      "20000: 6\n",
      "50000: 2\n",
      "100000: 1\n"
     ]
    }
   ],
   "source": [
    "decimated_big_patent_split = decimate_dataset(binned_big_patent_dataset, 0.001)\n",
    "# display lenghts for each split\n",
    "for split in decimated_big_patent_split:\n",
    "    print(f\"{split}: {len(decimated_big_patent_split[split]['sentences'])}\")\n"
   ]
  },
  {
   "cell_type": "code",
   "execution_count": 23,
   "metadata": {},
   "outputs": [
    {
     "name": "stdout",
     "output_type": "stream",
     "text": [
      "Running evaluation on 500 samples\n",
      "Running evaluation on 1000 samples\n",
      "Running evaluation on 2000 samples\n",
      "Running evaluation on 5000 samples\n",
      "Running evaluation on 10000 samples\n",
      "Running evaluation on 20000 samples\n",
      "Running evaluation on 50000 samples\n",
      "Running evaluation on 100000 samples\n"
     ]
    },
    {
     "data": {
      "text/html": [
       "<div>\n",
       "<style scoped>\n",
       "    .dataframe tbody tr th:only-of-type {\n",
       "        vertical-align: middle;\n",
       "    }\n",
       "\n",
       "    .dataframe tbody tr th {\n",
       "        vertical-align: top;\n",
       "    }\n",
       "\n",
       "    .dataframe thead th {\n",
       "        text-align: right;\n",
       "    }\n",
       "</style>\n",
       "<table border=\"1\" class=\"dataframe\">\n",
       "  <thead>\n",
       "    <tr style=\"text-align: right;\">\n",
       "      <th></th>\n",
       "      <th>500</th>\n",
       "      <th>1000</th>\n",
       "      <th>2000</th>\n",
       "      <th>5000</th>\n",
       "      <th>10000</th>\n",
       "      <th>20000</th>\n",
       "      <th>50000</th>\n",
       "      <th>100000</th>\n",
       "    </tr>\n",
       "  </thead>\n",
       "  <tbody>\n",
       "    <tr>\n",
       "      <th>v_measure</th>\n",
       "      <td>1.0</td>\n",
       "      <td>1.0</td>\n",
       "      <td>0.631307</td>\n",
       "      <td>0.44023</td>\n",
       "      <td>0.539501</td>\n",
       "      <td>1.0</td>\n",
       "      <td>1.0</td>\n",
       "      <td>1.0</td>\n",
       "    </tr>\n",
       "    <tr>\n",
       "      <th>v_measure_std</th>\n",
       "      <td>0.0</td>\n",
       "      <td>0.0</td>\n",
       "      <td>0.000000</td>\n",
       "      <td>0.00000</td>\n",
       "      <td>0.000000</td>\n",
       "      <td>0.0</td>\n",
       "      <td>0.0</td>\n",
       "      <td>0.0</td>\n",
       "    </tr>\n",
       "  </tbody>\n",
       "</table>\n",
       "</div>"
      ],
      "text/plain": [
       "               500     1000      2000     5000      10000   20000   50000   \\\n",
       "v_measure         1.0     1.0  0.631307  0.44023  0.539501     1.0     1.0   \n",
       "v_measure_std     0.0     0.0  0.000000  0.00000  0.000000     0.0     0.0   \n",
       "\n",
       "               100000  \n",
       "v_measure         1.0  \n",
       "v_measure_std     0.0  "
      ]
     },
     "execution_count": 23,
     "metadata": {},
     "output_type": "execute_result"
    }
   ],
   "source": [
    "model = SentenceTransformer('thenlper/gte-base')\n",
    "run_binned_benchmark(\"gte_base\", model, decimated_big_patent_split, \"big_patent\")"
   ]
  },
  {
   "cell_type": "code",
   "execution_count": null,
   "metadata": {},
   "outputs": [],
   "source": [
    "run_binned_benchmark(\"gte_base\", model, binned_wiki_cities_dataset, \"wiki_cities\")"
   ]
  },
  {
   "cell_type": "code",
   "execution_count": 5,
   "metadata": {},
   "outputs": [
    {
     "name": "stdout",
     "output_type": "stream",
     "text": [
      "Running evaluation on 500 samples\n"
     ]
    },
    {
     "name": "stderr",
     "output_type": "stream",
     "text": [
      "huggingface/tokenizers: The current process just got forked, after parallelism has already been used. Disabling parallelism to avoid deadlocks...\n",
      "To disable this warning, you can either:\n",
      "\t- Avoid using `tokenizers` before the fork if possible\n",
      "\t- Explicitly set the environment variable TOKENIZERS_PARALLELISM=(true | false)\n"
     ]
    },
    {
     "name": "stdout",
     "output_type": "stream",
     "text": [
      "Running evaluation on 1000 samples\n",
      "Running evaluation on 2000 samples\n",
      "Running evaluation on 5000 samples\n"
     ]
    }
   ],
   "source": [
    "model = SentenceTransformer(\n",
    "    \"jinaai/jina-embeddings-v2-base-en\"\n",
    ").to(\"mps\")\n",
    "run_binned_benchmark(\"jina\", model, decimated_big_patent_split, \"big_patent\")"
   ]
  },
  {
   "cell_type": "code",
   "execution_count": null,
   "metadata": {},
   "outputs": [],
   "source": [
    "run_binned_benchmark(\"jina\", model, binned_wiki_cities_dataset, \"wiki_cities\")"
   ]
  }
 ],
 "metadata": {
  "kernelspec": {
   "display_name": "embenchmark2",
   "language": "python",
   "name": "python3"
  },
  "language_info": {
   "codemirror_mode": {
    "name": "ipython",
    "version": 3
   },
   "file_extension": ".py",
   "mimetype": "text/x-python",
   "name": "python",
   "nbconvert_exporter": "python",
   "pygments_lexer": "ipython3",
   "version": "3.9.18"
  }
 },
 "nbformat": 4,
 "nbformat_minor": 2
}
