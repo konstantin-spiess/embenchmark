{
 "cells": [
  {
   "cell_type": "code",
   "execution_count": 1,
   "metadata": {},
   "outputs": [
    {
     "name": "stdout",
     "output_type": "stream",
     "text": [
      "Requirement already satisfied: python-dotenv in /Users/malte/miniconda3/envs/embenchmark2/lib/python3.9/site-packages (1.0.1)\n",
      "Requirement already satisfied: datasets in /Users/malte/miniconda3/envs/embenchmark2/lib/python3.9/site-packages (2.14.6)\n",
      "Requirement already satisfied: transformers in /Users/malte/miniconda3/envs/embenchmark2/lib/python3.9/site-packages (4.37.2)\n",
      "Requirement already satisfied: mteb in /Users/malte/miniconda3/envs/embenchmark2/lib/python3.9/site-packages (1.1.2)\n",
      "Requirement already satisfied: numpy>=1.17 in /Users/malte/miniconda3/envs/embenchmark2/lib/python3.9/site-packages (from datasets) (1.26.1)\n",
      "Requirement already satisfied: pyarrow>=8.0.0 in /Users/malte/miniconda3/envs/embenchmark2/lib/python3.9/site-packages (from datasets) (14.0.0)\n",
      "Requirement already satisfied: dill<0.3.8,>=0.3.0 in /Users/malte/miniconda3/envs/embenchmark2/lib/python3.9/site-packages (from datasets) (0.3.7)\n",
      "Requirement already satisfied: pandas in /Users/malte/miniconda3/envs/embenchmark2/lib/python3.9/site-packages (from datasets) (2.1.2)\n",
      "Requirement already satisfied: requests>=2.19.0 in /Users/malte/miniconda3/envs/embenchmark2/lib/python3.9/site-packages (from datasets) (2.31.0)\n",
      "Requirement already satisfied: tqdm>=4.62.1 in /Users/malte/miniconda3/envs/embenchmark2/lib/python3.9/site-packages (from datasets) (4.66.1)\n",
      "Requirement already satisfied: xxhash in /Users/malte/miniconda3/envs/embenchmark2/lib/python3.9/site-packages (from datasets) (3.4.1)\n",
      "Requirement already satisfied: multiprocess in /Users/malte/miniconda3/envs/embenchmark2/lib/python3.9/site-packages (from datasets) (0.70.15)\n",
      "Requirement already satisfied: fsspec<=2023.10.0,>=2023.1.0 in /Users/malte/miniconda3/envs/embenchmark2/lib/python3.9/site-packages (from fsspec[http]<=2023.10.0,>=2023.1.0->datasets) (2023.10.0)\n",
      "Requirement already satisfied: aiohttp in /Users/malte/miniconda3/envs/embenchmark2/lib/python3.9/site-packages (from datasets) (3.8.6)\n",
      "Requirement already satisfied: huggingface-hub<1.0.0,>=0.14.0 in /Users/malte/miniconda3/envs/embenchmark2/lib/python3.9/site-packages (from datasets) (0.20.3)\n",
      "Requirement already satisfied: packaging in /Users/malte/miniconda3/envs/embenchmark2/lib/python3.9/site-packages (from datasets) (23.2)\n",
      "Requirement already satisfied: pyyaml>=5.1 in /Users/malte/miniconda3/envs/embenchmark2/lib/python3.9/site-packages (from datasets) (6.0.1)\n",
      "Requirement already satisfied: filelock in /Users/malte/miniconda3/envs/embenchmark2/lib/python3.9/site-packages (from transformers) (3.13.1)\n",
      "Requirement already satisfied: regex!=2019.12.17 in /Users/malte/miniconda3/envs/embenchmark2/lib/python3.9/site-packages (from transformers) (2023.10.3)\n",
      "Requirement already satisfied: tokenizers<0.19,>=0.14 in /Users/malte/miniconda3/envs/embenchmark2/lib/python3.9/site-packages (from transformers) (0.15.1)\n",
      "Requirement already satisfied: safetensors>=0.4.1 in /Users/malte/miniconda3/envs/embenchmark2/lib/python3.9/site-packages (from transformers) (0.4.2)\n",
      "Requirement already satisfied: jsonlines in /Users/malte/miniconda3/envs/embenchmark2/lib/python3.9/site-packages (from mteb) (4.0.0)\n",
      "Requirement already satisfied: scikit-learn>=1.0.2 in /Users/malte/miniconda3/envs/embenchmark2/lib/python3.9/site-packages (from mteb) (1.3.2)\n",
      "Requirement already satisfied: scipy in /Users/malte/miniconda3/envs/embenchmark2/lib/python3.9/site-packages (from mteb) (1.11.3)\n",
      "Requirement already satisfied: sentence-transformers>=2.2.0 in /Users/malte/miniconda3/envs/embenchmark2/lib/python3.9/site-packages (from mteb) (2.2.2)\n",
      "Requirement already satisfied: torch in /Users/malte/miniconda3/envs/embenchmark2/lib/python3.9/site-packages (from mteb) (2.1.0)\n",
      "Requirement already satisfied: rich in /Users/malte/miniconda3/envs/embenchmark2/lib/python3.9/site-packages (from mteb) (13.6.0)\n",
      "Requirement already satisfied: attrs>=17.3.0 in /Users/malte/miniconda3/envs/embenchmark2/lib/python3.9/site-packages (from aiohttp->datasets) (23.1.0)\n",
      "Requirement already satisfied: charset-normalizer<4.0,>=2.0 in /Users/malte/miniconda3/envs/embenchmark2/lib/python3.9/site-packages (from aiohttp->datasets) (3.3.2)\n",
      "Requirement already satisfied: multidict<7.0,>=4.5 in /Users/malte/miniconda3/envs/embenchmark2/lib/python3.9/site-packages (from aiohttp->datasets) (6.0.4)\n",
      "Requirement already satisfied: async-timeout<5.0,>=4.0.0a3 in /Users/malte/miniconda3/envs/embenchmark2/lib/python3.9/site-packages (from aiohttp->datasets) (4.0.3)\n",
      "Requirement already satisfied: yarl<2.0,>=1.0 in /Users/malte/miniconda3/envs/embenchmark2/lib/python3.9/site-packages (from aiohttp->datasets) (1.9.2)\n",
      "Requirement already satisfied: frozenlist>=1.1.1 in /Users/malte/miniconda3/envs/embenchmark2/lib/python3.9/site-packages (from aiohttp->datasets) (1.4.0)\n",
      "Requirement already satisfied: aiosignal>=1.1.2 in /Users/malte/miniconda3/envs/embenchmark2/lib/python3.9/site-packages (from aiohttp->datasets) (1.3.1)\n",
      "Requirement already satisfied: typing-extensions>=3.7.4.3 in /Users/malte/miniconda3/envs/embenchmark2/lib/python3.9/site-packages (from huggingface-hub<1.0.0,>=0.14.0->datasets) (4.8.0)\n",
      "Requirement already satisfied: idna<4,>=2.5 in /Users/malte/miniconda3/envs/embenchmark2/lib/python3.9/site-packages (from requests>=2.19.0->datasets) (3.4)\n",
      "Requirement already satisfied: urllib3<3,>=1.21.1 in /Users/malte/miniconda3/envs/embenchmark2/lib/python3.9/site-packages (from requests>=2.19.0->datasets) (2.0.7)\n",
      "Requirement already satisfied: certifi>=2017.4.17 in /Users/malte/miniconda3/envs/embenchmark2/lib/python3.9/site-packages (from requests>=2.19.0->datasets) (2023.7.22)\n",
      "Requirement already satisfied: joblib>=1.1.1 in /Users/malte/miniconda3/envs/embenchmark2/lib/python3.9/site-packages (from scikit-learn>=1.0.2->mteb) (1.3.2)\n",
      "Requirement already satisfied: threadpoolctl>=2.0.0 in /Users/malte/miniconda3/envs/embenchmark2/lib/python3.9/site-packages (from scikit-learn>=1.0.2->mteb) (3.2.0)\n",
      "Requirement already satisfied: torchvision in /Users/malte/miniconda3/envs/embenchmark2/lib/python3.9/site-packages (from sentence-transformers>=2.2.0->mteb) (0.16.0)\n",
      "Requirement already satisfied: nltk in /Users/malte/miniconda3/envs/embenchmark2/lib/python3.9/site-packages (from sentence-transformers>=2.2.0->mteb) (3.8.1)\n",
      "Requirement already satisfied: sentencepiece in /Users/malte/miniconda3/envs/embenchmark2/lib/python3.9/site-packages (from sentence-transformers>=2.2.0->mteb) (0.1.99)\n",
      "Requirement already satisfied: sympy in /Users/malte/miniconda3/envs/embenchmark2/lib/python3.9/site-packages (from torch->mteb) (1.12)\n",
      "Requirement already satisfied: networkx in /Users/malte/miniconda3/envs/embenchmark2/lib/python3.9/site-packages (from torch->mteb) (3.2.1)\n",
      "Requirement already satisfied: jinja2 in /Users/malte/miniconda3/envs/embenchmark2/lib/python3.9/site-packages (from torch->mteb) (3.1.2)\n",
      "Requirement already satisfied: python-dateutil>=2.8.2 in /Users/malte/miniconda3/envs/embenchmark2/lib/python3.9/site-packages (from pandas->datasets) (2.8.2)\n",
      "Requirement already satisfied: pytz>=2020.1 in /Users/malte/miniconda3/envs/embenchmark2/lib/python3.9/site-packages (from pandas->datasets) (2023.3.post1)\n",
      "Requirement already satisfied: tzdata>=2022.1 in /Users/malte/miniconda3/envs/embenchmark2/lib/python3.9/site-packages (from pandas->datasets) (2023.3)\n",
      "Requirement already satisfied: markdown-it-py>=2.2.0 in /Users/malte/miniconda3/envs/embenchmark2/lib/python3.9/site-packages (from rich->mteb) (3.0.0)\n",
      "Requirement already satisfied: pygments<3.0.0,>=2.13.0 in /Users/malte/miniconda3/envs/embenchmark2/lib/python3.9/site-packages (from rich->mteb) (2.16.1)\n",
      "Requirement already satisfied: mdurl~=0.1 in /Users/malte/miniconda3/envs/embenchmark2/lib/python3.9/site-packages (from markdown-it-py>=2.2.0->rich->mteb) (0.1.2)\n",
      "Requirement already satisfied: six>=1.5 in /Users/malte/miniconda3/envs/embenchmark2/lib/python3.9/site-packages (from python-dateutil>=2.8.2->pandas->datasets) (1.16.0)\n",
      "Requirement already satisfied: MarkupSafe>=2.0 in /Users/malte/miniconda3/envs/embenchmark2/lib/python3.9/site-packages (from jinja2->torch->mteb) (2.1.3)\n",
      "Requirement already satisfied: click in /Users/malte/miniconda3/envs/embenchmark2/lib/python3.9/site-packages (from nltk->sentence-transformers>=2.2.0->mteb) (8.1.7)\n",
      "Requirement already satisfied: mpmath>=0.19 in /Users/malte/miniconda3/envs/embenchmark2/lib/python3.9/site-packages (from sympy->torch->mteb) (1.3.0)\n",
      "Requirement already satisfied: pillow!=8.3.*,>=5.3.0 in /Users/malte/miniconda3/envs/embenchmark2/lib/python3.9/site-packages (from torchvision->sentence-transformers>=2.2.0->mteb) (10.1.0)\n",
      "Note: you may need to restart the kernel to use updated packages.\n"
     ]
    }
   ],
   "source": [
    "%pip install python-dotenv datasets transformers mteb scikit-learn"
   ]
  },
  {
   "cell_type": "code",
   "execution_count": 37,
   "metadata": {},
   "outputs": [],
   "source": [
    "# Helper Functions & Dependencies\n",
    "from dotenv import load_dotenv\n",
    "\n",
    "if load_dotenv(\".env\") == False:\n",
    "    print(\"No .env file found\")\n",
    "from datasets import load_dataset\n",
    "import numpy as np\n",
    "import pandas as pd\n",
    "import sklearn\n",
    "import sklearn.cluster\n",
    "from sentence_transformers import SentenceTransformer\n",
    "\n",
    "\n",
    "def evaluator(model, sentences, labels, max_context_size=512, batch_size=1, clustering_batch_size=500):\n",
    "    \"\"\"\n",
    "    Evaluate clustering using binned dataset\n",
    "    \"\"\"\n",
    "\n",
    "    model.max_seq_length = max_context_size\n",
    "    corpus_embeddings = np.asarray(\n",
    "        model.encode(sentences, batch_size=batch_size)\n",
    "    )\n",
    "    \n",
    "    clustering_model = sklearn.cluster.MiniBatchKMeans(\n",
    "        n_clusters=len(set(labels)), batch_size=clustering_batch_size, n_init=\"auto\"\n",
    "    )\n",
    "    clustering_model.fit(corpus_embeddings)\n",
    "\n",
    "    cluster_assignment = clustering_model.labels_\n",
    "\n",
    "    v_measure = sklearn.metrics.cluster.v_measure_score(labels, cluster_assignment)\n",
    "\n",
    "    return {\"v_measure\": v_measure}\n",
    "\n",
    "def evaluate(model, dataset, max_context_size, **kwargs):\n",
    "    v_measures = []\n",
    "    for cluster_set in dataset:\n",
    "        metrics = evaluator(model, cluster_set[\"sentences\"], cluster_set[\"labels\"], max_context_size=max_context_size)\n",
    "        v_measures.append(metrics[\"v_measure\"])\n",
    "\n",
    "    v_mean = np.mean(v_measures)\n",
    "    v_std = np.std(v_measures)\n",
    "    return {\"v_measure\": v_mean, \"v_measure_std\": v_std}\n",
    "\n",
    "\n",
    "# clustering benchmark, store results in dataframe and write to csv\n",
    "def run_benchmark(model_id, model, dataset, dataset_id, split=\"test\"):\n",
    "    results = {}\n",
    "    max_lengths = [10, 20, 50]\n",
    "\n",
    "    for max_length in max_lengths:\n",
    "        # for split in dataset:\n",
    "        print(f\"Running with {max_length} max length.\")\n",
    "        results[max_length] = evaluate(\n",
    "            model, dataset[split], max_length\n",
    "        )\n",
    "\n",
    "    df = pd.DataFrame(results)\n",
    "    df.to_csv(f\"results/clustering/cutoff_{model_id}_{dataset_id}.csv\")\n",
    "    return df\n",
    "\n",
    "\n",
    "def decimate_dataset(dataset, decimation_factor=0.1, split=\"test\"):\n",
    "    \"\"\"\n",
    "    Randomly decimate a clustering dataset\n",
    "    \"\"\"\n",
    "\n",
    "    data = dataset[split]\n",
    "\n",
    "    decimated_dataset = {split: [\n",
    "        {\"sentences\": [], \"labels\": []} for _ in range(len(data))\n",
    "    ]}\n",
    "\n",
    "\n",
    "    for c in range(len(data)):\n",
    "        for i in range(len(data[c][\"sentences\"])):\n",
    "            if np.random.rand() < decimation_factor or i == 0:\n",
    "                decimated_dataset[split][c][\"sentences\"].append(data[c][\"sentences\"][i])\n",
    "                decimated_dataset[split][c][\"labels\"].append(data[c][\"labels\"][i])\n",
    "\n",
    "\n",
    "    return decimated_dataset"
   ]
  },
  {
   "cell_type": "code",
   "execution_count": 4,
   "metadata": {},
   "outputs": [
    {
     "name": "stderr",
     "output_type": "stream",
     "text": [
      "/Users/malte/miniconda3/envs/embenchmark2/lib/python3.9/site-packages/datasets/table.py:1421: FutureWarning: promote has been superseded by mode='default'.\n",
      "  table = cls._concat_blocks(blocks, axis=0)\n"
     ]
    }
   ],
   "source": [
    "big_patent_dataset = load_dataset(\"jinaai/big-patent-clustering\")\n",
    "wiki_cities_dataset = load_dataset(\"jinaai/cities_wiki_clustering\")"
   ]
  },
  {
   "cell_type": "code",
   "execution_count": null,
   "metadata": {},
   "outputs": [],
   "source": [
    "model = SentenceTransformer('thenlper/gte-base')\n",
    "run_benchmark(\"gte_base\", model, big_patent_dataset, \"big_patent\")"
   ]
  },
  {
   "cell_type": "code",
   "execution_count": null,
   "metadata": {},
   "outputs": [],
   "source": [
    "run_benchmark(\"gte_base\", model, wiki_cities_dataset, \"wiki_cities\")"
   ]
  },
  {
   "cell_type": "code",
   "execution_count": null,
   "metadata": {},
   "outputs": [],
   "source": [
    "model = SentenceTransformer(\n",
    "    \"jinaai/jina-embeddings-v2-base-en\"\n",
    ").to(\"mps\")\n",
    "run_benchmark(\"jina\", model, big_patent_dataset, \"big_patent\")"
   ]
  },
  {
   "cell_type": "code",
   "execution_count": null,
   "metadata": {},
   "outputs": [],
   "source": [
    "run_benchmark(\"jina\", model, wiki_cities_dataset, \"wiki_cities\")"
   ]
  }
 ],
 "metadata": {
  "kernelspec": {
   "display_name": "embenchmark2",
   "language": "python",
   "name": "python3"
  },
  "language_info": {
   "codemirror_mode": {
    "name": "ipython",
    "version": 3
   },
   "file_extension": ".py",
   "mimetype": "text/x-python",
   "name": "python",
   "nbconvert_exporter": "python",
   "pygments_lexer": "ipython3",
   "version": "3.9.18"
  }
 },
 "nbformat": 4,
 "nbformat_minor": 2
}
